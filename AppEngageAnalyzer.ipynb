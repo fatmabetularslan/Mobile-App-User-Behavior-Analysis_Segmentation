{
 "cells": [
  {
   "cell_type": "markdown",
   "metadata": {},
   "source": [
    "#### First We need to import all the necesassry libraries used for this project "
   ]
  },
  {
   "cell_type": "code",
   "execution_count": null,
   "metadata": {},
   "outputs": [],
   "source": [
    "import pandas as pd\n",
    "import numpy as np\n",
    "import seaborn as sns\n",
    "import matplotlib.pyplot as plt\n",
    "from sklearn.cluster import KMeans\n",
    "from sklearn.preprocessing import StandardScaler\n",
    "from sklearn.ensemble import IsolationForest\n",
    "\n",
    "\n",
    "# Make sure to install these libraries before importing it"
   ]
  },
  {
   "cell_type": "markdown",
   "metadata": {},
   "source": [
    "#### Load the data"
   ]
  },
  {
   "cell_type": "code",
   "execution_count": null,
   "metadata": {},
   "outputs": [],
   "source": [
    "file_path = 'userbehaviour.csv' # make sure the file path is correct\n",
    "data = pd.read_csv(file_path)"
   ]
  },
  {
   "cell_type": "markdown",
   "metadata": {},
   "source": [
    "#### Import data and check null values, column info, and descriptive statistics of the data."
   ]
  },
  {
   "cell_type": "code",
   "execution_count": null,
   "metadata": {},
   "outputs": [],
   "source": [
    "# Printing Null values and Column Info\n",
    "print(\"Null Values:\\n\", data.isnull().sum())\n",
    "print(\"\\nColumn Info:\\n\")\n",
    "print(f\"{data.info()}\\n\\n\")"
   ]
  },
  {
   "cell_type": "code",
   "execution_count": null,
   "metadata": {},
   "outputs": [],
   "source": [
    "# Print Descriptive Statistics\n",
    "print(\"descriptive statsitics\")\n",
    "print(data.describe())"
   ]
  },
  {
   "cell_type": "markdown",
   "metadata": {},
   "source": [
    "#### Check the highest, lowest, and average screen time of all the users"
   ]
  },
  {
   "cell_type": "code",
   "execution_count": null,
   "metadata": {},
   "outputs": [],
   "source": [
    "max_screen_time = data['Average Screen Time'].max()\n",
    "min_screen_time = data['Average Screen Time'].min()\n",
    "avg_screen_time = data['Average Screen Time'].mean()\n",
    "print(\"\\nHighest Screen Time:\", max_screen_time)\n",
    "print(\"Lowest Screen Time:\", min_screen_time)\n",
    "print(\"Average Screen Time:\", round(avg_screen_time, 4))"
   ]
  },
  {
   "cell_type": "markdown",
   "metadata": {},
   "source": [
    "####  Check the highest, lowest, and the average amount spent by all the users"
   ]
  },
  {
   "cell_type": "code",
   "execution_count": null,
   "metadata": {},
   "outputs": [],
   "source": [
    "max_amount_spent = data['Average Spent on App (INR)'].max()\n",
    "min_amount_spent = data['Average Spent on App (INR)'].min()\n",
    "avg_amount_spent = data['Average Spent on App (INR)'].mean()\n",
    "print(\"\\nHighest Amount Spent:\", max_amount_spent)\n",
    "print(\"Lowest Amount Spent:\", min_amount_spent)\n",
    "print(\"Average Amount Spent:\", round(avg_amount_spent, 3)) # Rounding float values for "
   ]
  },
  {
   "cell_type": "markdown",
   "metadata": {},
   "source": [
    "#### Now check the relationship between the spending capacity and screen time of the active users and the users who have uninstalled the app."
   ]
  },
  {
   "cell_type": "code",
   "execution_count": null,
   "metadata": {},
   "outputs": [],
   "source": [
    "import plotly.express as px\n",
    "import plotly.io as pio \n",
    "# data = pd.DataFrame(data)\n",
    "pio.renderers.default = 'notebook'\n",
    "\n",
    "fig = px.scatter(\n",
    "    data, \n",
    "    x='Average Screen Time', \n",
    "    y='Average Spent on App (INR)', \n",
    "    color='Status',\n",
    "    size='Average Spent on App (INR)',\n",
    "    title='Relationship Between Spending Capacity and Screentime',\n",
    "    labels={'Average Screen Time': 'Average Screen Time', 'Average Spent on App (INR)': 'Average Spent on App (INR)'},\n",
    "    height=600,\n",
    "    width=700\n",
    ")\n",
    "\n",
    "fig.show()"
   ]
  },
  {
   "cell_type": "markdown",
   "metadata": {},
   "source": [
    "## Observations:\n",
    "- **Active Users**: The scatter plot for active users shows a positive correlation between screen time and the amount spent. This indicates that users who spend more time on the app tend to spend more money. The cluster of high spenders with high screen time suggests that engaging users can lead to increased spending.\n",
    "- **Uninstalled Users**: For users who have uninstalled the app, the relationship between screen time and spending is less pronounced. There are fewer high spenders, and the data points are more spread out. This suggests that users who uninstall the app may not be as engaged or willing to spend as those who remain active."
   ]
  },
  {
   "cell_type": "markdown",
   "metadata": {},
   "source": [
    "#### Now check the relationship between the ratings given by users and the average screen time. Also explain your observation.\n"
   ]
  },
  {
   "cell_type": "code",
   "execution_count": null,
   "metadata": {},
   "outputs": [],
   "source": [
    "# pio.renderers.default = 'notebook'\n",
    "fig = px.scatter(\n",
    "    data, \n",
    "    x='Average Screen Time', \n",
    "    y='Ratings', \n",
    "    color='Status',\n",
    "    size='Ratings',\n",
    "    title='Relationship Between Ratings and Screentime',\n",
    "    labels={'Average Screen Time': 'Average Screen Time', 'Ratings': 'Ratings'},\n",
    "    height=600,\n",
    "    width=600\n",
    ")\n",
    "\n",
    "fig.show()"
   ]
  },
  {
   "cell_type": "markdown",
   "metadata": {},
   "source": [
    "## Observations:\n",
    "- The scatter plot shows a moderate positive correlation between ratings and average screen time. Users who spend more time on the app tend to give higher ratings. This indicates that higher engagement is associated with greater user satisfaction.\n",
    "- There are some outliers where users with low screen time give high ratings and vice versa. These outliers could be due to individual user preferences or specific experiences that significantly influenced their ratings."
   ]
  },
  {
   "cell_type": "markdown",
   "metadata": {},
   "source": [
    "#### Moving forward to App User segmentation to find the users that the app retained and lost forever. For this i would use the K-means clustering algorithm in Machine Learning."
   ]
  },
  {
   "cell_type": "code",
   "execution_count": null,
   "metadata": {},
   "outputs": [],
   "source": [
    "features = data[['Average Screen Time', 'Average Spent on App (INR)', 'Ratings', 'New Password Request', 'Last Visited Minutes']]\n",
    "scaler = StandardScaler()\n",
    "scaled_features = scaler.fit_transform(features)\n",
    "kmeans = KMeans(n_clusters=3, random_state=42)\n",
    "data['Segment'] = kmeans.fit_predict(scaled_features)\n",
    "# print(data['Segment'])"
   ]
  },
  {
   "cell_type": "markdown",
   "metadata": {},
   "source": [
    "#### Number of segments:"
   ]
  },
  {
   "cell_type": "code",
   "execution_count": null,
   "metadata": {},
   "outputs": [],
   "source": [
    "num_segments = data['Segment'].nunique()\n",
    "print(\"\\nNumber of Segments:\", num_segments)"
   ]
  },
  {
   "cell_type": "markdown",
   "metadata": {},
   "source": [
    "#### Visualize the Segments"
   ]
  },
  {
   "cell_type": "code",
   "execution_count": null,
   "metadata": {},
   "outputs": [],
   "source": [
    "fig = px.scatter(\n",
    "    data, \n",
    "    x='Last Visited Minutes', \n",
    "    y='Average Spent on App (INR)', \n",
    "    color='Status',\n",
    "    size='Average Spent on App (INR)',\n",
    "    title='Relationship Between Ratings and Screentime',\n",
    "    labels={'Last Visited Minutes': 'Last Visited Minutes', 'Average Spent on App (INR)': 'Average Spent on App (INR)'},\n",
    "    height=600,\n",
    "    width=650\n",
    ")\n",
    "\n",
    "fig.show()"
   ]
  },
  {
   "cell_type": "markdown",
   "metadata": {},
   "source": [
    "## Summary\n",
    "\n",
    "### Data Inspection\n",
    "To begin with, the dataset was loaded from the provided CSV file, and a preliminary inspection was conducted. This involved checking for null values, understanding the column information, and generating descriptive statistics. This step is crucial as it helps us understand the structure and quality of the data before performing any analysis or modeling.\n",
    "\n",
    "- **Null Values**: Ensured there were no missing values in the dataset, which could affect our analysis.\n",
    "- **Column Information**: Verified the data types of each column to ensure they are appropriate for the analysis.\n",
    "- **Descriptive Statistics**: Provided a statistical summary of each feature, including mean, standard deviation, minimum, and maximum values.\n",
    "\n",
    "### Screen Time Analysis\n",
    "The analysis of screen time included calculating the highest, lowest, and average screen times across all users. This helps in understanding user engagement on the application.\n",
    "\n",
    "- **Highest Screen Time**: Identified the maximum screen time, indicating the most engaged user.\n",
    "- **Lowest Screen Time**: Identified the minimum screen time, indicating the least engaged user.\n",
    "- **Average Screen Time**: Calculated the mean screen time to understand the overall engagement level of users.\n",
    "\n",
    "### Spending Analysis\n",
    "Similarly, the spending analysis involved calculating the highest, lowest, and average amounts spent by users on the app. This helps in understanding the monetization aspects and user spending behavior.\n",
    "\n",
    "- **Highest Amount Spent**: Determined the maximum amount spent by a user.\n",
    "- **Lowest Amount Spent**: Determined the minimum amount spent by a user.\n",
    "- **Average Amount Spent**: Calculated the mean amount spent to understand overall spending behavior.\n",
    "\n",
    "### Spending vs. Screen Time for Active and Uninstalled Users\n",
    "A scatter plot analysis was performed to explore the relationship between screen time and spending for active users versus users who have uninstalled the app. This helps in identifying patterns in user behavior that could indicate why some users remain active while others uninstall the app.\n",
    "\n",
    "- **Active Users**: Observed the spending and screen time relationship for users who are still using the app.\n",
    "- **Uninstalled Users**: Compared the same relationship for users who have uninstalled the app.\n",
    "\n",
    "### Ratings vs. Screen Time\n",
    "The relationship between the ratings given by users and their average screen time was analyzed using a scatter plot. This helps in understanding if there is a correlation between user satisfaction (as indicated by ratings) and their engagement (as indicated by screen time).\n",
    "\n",
    "### User Segmentation Using K-Means Clustering\n",
    "K-Means clustering was applied to segment users based on their behavior. This involved selecting relevant features, standardizing the data, and applying the K-Means algorithm to identify distinct user segments.\n",
    "\n",
    "- **Feature Selection**: Chose features like screen time, amount spent, ratings, password requests, and last visited minutes.\n",
    "- **Standardization**: Standardized the features to ensure equal weighting in the clustering algorithm.\n",
    "- **Clustering**: Identified three distinct user segments, which can be further analyzed to understand different user behaviors and tailor marketing strategies accordingly.\n",
    "\n",
    "### Visualizing the Segments\n",
    "The user segments were visualized using scatter plots, showing clear distinctions between the different clusters. This visual representation helps in understanding the characteristics of each segment and aids in strategic decision-making.\n",
    "\n",
    "### Conclusion\n",
    "The entire analysis provides a comprehensive understanding of user behavior on the app, from engagement and spending to satisfaction and segmentation. These insights can be used to improve user retention, tailor marketing strategies, and enhance the overall user experience.\n"
   ]
  }
 ],
 "metadata": {
  "kernelspec": {
   "display_name": "Python 3",
   "language": "python",
   "name": "python3"
  },
  "language_info": {
   "codemirror_mode": {
    "name": "ipython",
    "version": 3
   },
   "file_extension": ".py",
   "mimetype": "text/x-python",
   "name": "python",
   "nbconvert_exporter": "python",
   "pygments_lexer": "ipython3",
   "version": "3.12.4"
  }
 },
 "nbformat": 4,
 "nbformat_minor": 2
}
